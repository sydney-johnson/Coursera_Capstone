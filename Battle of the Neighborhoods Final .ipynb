{
    "nbformat_minor": 1, 
    "cells": [
        {
            "source": "# Determining a Location for a New Restaurant in Troy, Alabama USA", 
            "cell_type": "markdown", 
            "metadata": {
                "collapsed": true
            }
        }, 
        {
            "source": "   In order to determine a good location for a restaurant in Troy AL. I am going to first split the city into it's three zipcodes. I will then retrieve the Latitude and Longitude Information using the pgeocode library.\n    Next, I will use the latitude and longitude information to gather all the venue information from those three zones using the FourSquare database. ", 
            "cell_type": "markdown", 
            "metadata": {}
        }, 
        {
            "source": "## 1. Import Libraries", 
            "cell_type": "markdown", 
            "metadata": {}
        }, 
        {
            "execution_count": 1, 
            "cell_type": "code", 
            "metadata": {}, 
            "outputs": [
                {
                    "output_type": "stream", 
                    "name": "stdout", 
                    "text": "Collecting folium\n\u001b[?25l  Downloading https://files.pythonhosted.org/packages/72/ff/004bfe344150a064e558cb2aedeaa02ecbf75e60e148a55a9198f0c41765/folium-0.10.0-py2.py3-none-any.whl (91kB)\n\u001b[K     |\u2588\u2588\u2588\u2588\u2588\u2588\u2588\u2588\u2588\u2588\u2588\u2588\u2588\u2588\u2588\u2588\u2588\u2588\u2588\u2588\u2588\u2588\u2588\u2588\u2588\u2588\u2588\u2588\u2588\u2588\u2588\u2588| 92kB 16.3MB/s eta 0:00:01\n\u001b[?25hRequirement already satisfied: requests in /opt/conda/envs/Python36/lib/python3.6/site-packages (from folium) (2.21.0)\nRequirement already satisfied: jinja2>=2.9 in /opt/conda/envs/Python36/lib/python3.6/site-packages (from folium) (2.10)\nCollecting branca>=0.3.0 (from folium)\n  Downloading https://files.pythonhosted.org/packages/63/36/1c93318e9653f4e414a2e0c3b98fc898b4970e939afeedeee6075dd3b703/branca-0.3.1-py3-none-any.whl\nRequirement already satisfied: numpy in /opt/conda/envs/Python36/lib/python3.6/site-packages (from folium) (1.15.4)\nRequirement already satisfied: chardet<3.1.0,>=3.0.2 in /opt/conda/envs/Python36/lib/python3.6/site-packages (from requests->folium) (3.0.4)\nRequirement already satisfied: urllib3<1.25,>=1.21.1 in /opt/conda/envs/Python36/lib/python3.6/site-packages (from requests->folium) (1.24.1)\nRequirement already satisfied: certifi>=2017.4.17 in /opt/conda/envs/Python36/lib/python3.6/site-packages (from requests->folium) (2019.6.16)\nRequirement already satisfied: idna<2.9,>=2.5 in /opt/conda/envs/Python36/lib/python3.6/site-packages (from requests->folium) (2.8)\nRequirement already satisfied: MarkupSafe>=0.23 in /opt/conda/envs/Python36/lib/python3.6/site-packages (from jinja2>=2.9->folium) (1.1.0)\nRequirement already satisfied: six in /opt/conda/envs/Python36/lib/python3.6/site-packages (from branca>=0.3.0->folium) (1.12.0)\nInstalling collected packages: branca, folium\nSuccessfully installed branca-0.3.1 folium-0.10.0\nCollecting geocoder\n\u001b[?25l  Downloading https://files.pythonhosted.org/packages/4f/6b/13166c909ad2f2d76b929a4227c952630ebaf0d729f6317eb09cbceccbab/geocoder-1.38.1-py2.py3-none-any.whl (98kB)\n\u001b[K     |\u2588\u2588\u2588\u2588\u2588\u2588\u2588\u2588\u2588\u2588\u2588\u2588\u2588\u2588\u2588\u2588\u2588\u2588\u2588\u2588\u2588\u2588\u2588\u2588\u2588\u2588\u2588\u2588\u2588\u2588\u2588\u2588| 102kB 11.0MB/s ta 0:00:01\n\u001b[?25hRequirement already satisfied: future in /opt/conda/envs/Python36/lib/python3.6/site-packages (from geocoder) (0.17.1)\nRequirement already satisfied: click in /opt/conda/envs/Python36/lib/python3.6/site-packages (from geocoder) (7.0)\nRequirement already satisfied: requests in /opt/conda/envs/Python36/lib/python3.6/site-packages (from geocoder) (2.21.0)\nCollecting ratelim (from geocoder)\n  Downloading https://files.pythonhosted.org/packages/f2/98/7e6d147fd16a10a5f821db6e25f192265d6ecca3d82957a4fdd592cad49c/ratelim-0.1.6-py2.py3-none-any.whl\nRequirement already satisfied: six in /opt/conda/envs/Python36/lib/python3.6/site-packages (from geocoder) (1.12.0)\nRequirement already satisfied: chardet<3.1.0,>=3.0.2 in /opt/conda/envs/Python36/lib/python3.6/site-packages (from requests->geocoder) (3.0.4)\nRequirement already satisfied: idna<2.9,>=2.5 in /opt/conda/envs/Python36/lib/python3.6/site-packages (from requests->geocoder) (2.8)\nRequirement already satisfied: urllib3<1.25,>=1.21.1 in /opt/conda/envs/Python36/lib/python3.6/site-packages (from requests->geocoder) (1.24.1)\nRequirement already satisfied: certifi>=2017.4.17 in /opt/conda/envs/Python36/lib/python3.6/site-packages (from requests->geocoder) (2019.6.16)\nRequirement already satisfied: decorator in /opt/conda/envs/Python36/lib/python3.6/site-packages (from ratelim->geocoder) (4.3.2)\nInstalling collected packages: ratelim, geocoder\nSuccessfully installed geocoder-1.38.1 ratelim-0.1.6\nLibraries imported.\n"
                }
            ], 
            "source": "import numpy as np # library to handle data in a vectorized manner\n\n!pip install folium\n\nimport pandas as pd # library for data analsysis\npd.set_option(\"display.max_columns\", None)\npd.set_option(\"display.max_rows\", None)\n\nimport json # library to handle JSON files\n\nimport requests # library to handle requests\nfrom bs4 import BeautifulSoup # library to parse HTML and XML documents\n\nfrom geopy.geocoders import Nominatim # convert an address into latitude and longitude values\n\n!pip install geocoder # to get coordinates\n\nfrom pandas.io.json import json_normalize # tranform JSON file into a pandas dataframe\n\n# Matplotlib and associated plotting modules\nimport matplotlib.cm as cm\nimport matplotlib.colors as colors\n\n# import k-means from clustering stage\nfrom sklearn.cluster import KMeans\n\nimport folium # map rendering library\n\nprint(\"Libraries imported.\")"
        }, 
        {
            "source": "## 2. Get Latitude and Longitude from Zip Codes", 
            "cell_type": "markdown", 
            "metadata": {}
        }, 
        {
            "execution_count": 2, 
            "cell_type": "code", 
            "metadata": {}, 
            "outputs": [
                {
                    "output_type": "stream", 
                    "name": "stdout", 
                    "text": "Collecting pgeocode\n  Downloading https://files.pythonhosted.org/packages/45/12/c02be61e117d19a43b3d2b804311eedf49c0158f446d5b0d52f259c4b0fb/pgeocode-0.1.2-py2.py3-none-any.whl\nRequirement already satisfied: requests in /opt/conda/envs/Python36/lib/python3.6/site-packages (from pgeocode) (2.21.0)\nRequirement already satisfied: pandas in /opt/conda/envs/Python36/lib/python3.6/site-packages (from pgeocode) (0.24.1)\nRequirement already satisfied: numpy in /opt/conda/envs/Python36/lib/python3.6/site-packages (from pgeocode) (1.15.4)\nRequirement already satisfied: urllib3<1.25,>=1.21.1 in /opt/conda/envs/Python36/lib/python3.6/site-packages (from requests->pgeocode) (1.24.1)\nRequirement already satisfied: idna<2.9,>=2.5 in /opt/conda/envs/Python36/lib/python3.6/site-packages (from requests->pgeocode) (2.8)\nRequirement already satisfied: chardet<3.1.0,>=3.0.2 in /opt/conda/envs/Python36/lib/python3.6/site-packages (from requests->pgeocode) (3.0.4)\nRequirement already satisfied: certifi>=2017.4.17 in /opt/conda/envs/Python36/lib/python3.6/site-packages (from requests->pgeocode) (2019.6.16)\nRequirement already satisfied: python-dateutil>=2.5.0 in /opt/conda/envs/Python36/lib/python3.6/site-packages (from pandas->pgeocode) (2.7.5)\nRequirement already satisfied: pytz>=2011k in /opt/conda/envs/Python36/lib/python3.6/site-packages (from pandas->pgeocode) (2018.9)\nRequirement already satisfied: six>=1.5 in /opt/conda/envs/Python36/lib/python3.6/site-packages (from python-dateutil>=2.5.0->pandas->pgeocode) (1.12.0)\nInstalling collected packages: pgeocode\nSuccessfully installed pgeocode-0.1.2\n"
                }
            ], 
            "source": "!pip install pgeocode #For getting coordinates from zip codes"
        }, 
        {
            "execution_count": 3, 
            "cell_type": "code", 
            "metadata": {}, 
            "outputs": [
                {
                    "execution_count": 3, 
                    "metadata": {}, 
                    "data": {
                        "text/plain": "postal_code         36079\ncountry code           US\nplace_name           Troy\nstate_name        Alabama\nstate_code             AL\ncounty_name          Pike\ncounty_code           109\ncommunity_name        NaN\ncommunity_code        NaN\nlatitude          31.7595\nlongitude        -86.0107\naccuracy                4\nName: 0, dtype: object"
                    }, 
                    "output_type": "execute_result"
                }
            ], 
            "source": "import pgeocode\n\nnomi = pgeocode.Nominatim('us')\nnomi.query_postal_code(\"36079\") #Test Run before entering into a dataframe."
        }, 
        {
            "execution_count": 4, 
            "cell_type": "code", 
            "metadata": {}, 
            "outputs": [
                {
                    "execution_count": 4, 
                    "metadata": {}, 
                    "data": {
                        "text/html": "<div>\n<style scoped>\n    .dataframe tbody tr th:only-of-type {\n        vertical-align: middle;\n    }\n\n    .dataframe tbody tr th {\n        vertical-align: top;\n    }\n\n    .dataframe thead th {\n        text-align: right;\n    }\n</style>\n<table border=\"1\" class=\"dataframe\">\n  <thead>\n    <tr style=\"text-align: right;\">\n      <th></th>\n      <th>postal_code</th>\n      <th>country code</th>\n      <th>place_name</th>\n      <th>state_name</th>\n      <th>state_code</th>\n      <th>county_name</th>\n      <th>county_code</th>\n      <th>community_name</th>\n      <th>community_code</th>\n      <th>latitude</th>\n      <th>longitude</th>\n      <th>accuracy</th>\n    </tr>\n  </thead>\n  <tbody>\n    <tr>\n      <th>0</th>\n      <td>36079</td>\n      <td>US</td>\n      <td>Troy</td>\n      <td>Alabama</td>\n      <td>AL</td>\n      <td>Pike</td>\n      <td>109.0</td>\n      <td>NaN</td>\n      <td>NaN</td>\n      <td>31.7595</td>\n      <td>-86.0107</td>\n      <td>4.0</td>\n    </tr>\n    <tr>\n      <th>1</th>\n      <td>36081</td>\n      <td>US</td>\n      <td>Troy</td>\n      <td>Alabama</td>\n      <td>AL</td>\n      <td>Pike</td>\n      <td>109.0</td>\n      <td>NaN</td>\n      <td>NaN</td>\n      <td>31.7945</td>\n      <td>-85.9655</td>\n      <td>4.0</td>\n    </tr>\n    <tr>\n      <th>2</th>\n      <td>36082</td>\n      <td>US</td>\n      <td>Troy</td>\n      <td>Alabama</td>\n      <td>AL</td>\n      <td>Pike</td>\n      <td>109.0</td>\n      <td>NaN</td>\n      <td>NaN</td>\n      <td>31.8028</td>\n      <td>-85.9546</td>\n      <td>4.0</td>\n    </tr>\n  </tbody>\n</table>\n</div>", 
                        "text/plain": "  postal_code country code place_name state_name state_code county_name  \\\n0       36079           US       Troy    Alabama         AL        Pike   \n1       36081           US       Troy    Alabama         AL        Pike   \n2       36082           US       Troy    Alabama         AL        Pike   \n\n   county_code community_name  community_code  latitude  longitude  accuracy  \n0        109.0            NaN             NaN   31.7595   -86.0107       4.0  \n1        109.0            NaN             NaN   31.7945   -85.9655       4.0  \n2        109.0            NaN             NaN   31.8028   -85.9546       4.0  "
                    }, 
                    "output_type": "execute_result"
                }
            ], 
            "source": "Zip_Codes=nomi.query_postal_code([\"36079\",\"36081\",\"36082\"])\nZip_Codes.head()"
        }, 
        {
            "source": "## 3. Create a Map of Troy, AL", 
            "cell_type": "markdown", 
            "metadata": {}
        }, 
        {
            "execution_count": 5, 
            "cell_type": "code", 
            "metadata": {}, 
            "outputs": [
                {
                    "output_type": "stream", 
                    "name": "stdout", 
                    "text": "The geograpical coordinate of Troy, Alabama 31.8087678, -85.969951.\n"
                }
            ], 
            "source": "# get the coordinates of Troy Alabama\naddress = 'Troy, Alabama'\n\ngeolocator = Nominatim(user_agent=\"my-application\")\nlocation = geolocator.geocode(address)\nlatitude = location.latitude\nlongitude = location.longitude\nprint('The geograpical coordinate of Troy, Alabama {}, {}.'.format(latitude, longitude))"
        }, 
        {
            "execution_count": 6, 
            "cell_type": "code", 
            "metadata": {}, 
            "outputs": [
                {
                    "execution_count": 6, 
                    "metadata": {}, 
                    "data": {
                        "text/html": "<div style=\"width:100%;\"><div style=\"position:relative;width:100%;height:0;padding-bottom:60%;\"><iframe src=\"data:text/html;charset=utf-8;base64,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\" style=\"position:absolute;width:100%;height:100%;left:0;top:0;border:none !important;\" allowfullscreen webkitallowfullscreen mozallowfullscreen></iframe></div></div>", 
                        "text/plain": "<folium.folium.Map at 0x7f4097c52630>"
                    }, 
                    "output_type": "execute_result"
                }
            ], 
            "source": "# create map of Troy, Al using latitude and longitude values\nmap_troy = folium.Map(location=[latitude, longitude], zoom_start=11)\n\n# add markers to map\nfor lat, lng, neighborhood in zip(Zip_Codes['latitude'], Zip_Codes['longitude'], Zip_Codes['postal_code']):\n    label = '{}'.format(neighborhood)\n    label = folium.Popup(label, parse_html=True)\n    folium.CircleMarker(\n        [lat, lng],\n        radius=5,\n        popup=label,\n        color='blue',\n        fill=True,\n        fill_color='#3186cc',\n        fill_opacity=0.7).add_to(map_troy)  \n    \nmap_troy"
        }, 
        {
            "source": "# By looking at the map, we can now see the the general locations of these three zip code zones. Now we have to plot the existing restaurants that exist within those zones.", 
            "cell_type": "markdown", 
            "metadata": {}
        }, 
        {
            "execution_count": 7, 
            "cell_type": "code", 
            "metadata": {}, 
            "outputs": [], 
            "source": "# save the map as HTML file\nmap_troy.save('map_troy.html')"
        }, 
        {
            "source": "# 4. Connect to FourSquare API to Discover Venue Information for the Zones.", 
            "cell_type": "markdown", 
            "metadata": {}
        }, 
        {
            "execution_count": 8, 
            "cell_type": "code", 
            "metadata": {}, 
            "outputs": [
                {
                    "output_type": "stream", 
                    "name": "stdout", 
                    "text": "Your credentails:\nCLIENT_ID: HAPT14TCH1UXJLIVL0EERBZFXJKPOR2FWVWEQMISAGY5N0C2\nCLIENT_SECRET:TZWYKO4FGTK3ZQRJBI2FIP2R2UXUEFFU0KVQBPZLXCTK3QON\n"
                }
            ], 
            "source": "CLIENT_ID = 'HAPT14TCH1UXJLIVL0EERBZFXJKPOR2FWVWEQMISAGY5N0C2' #Foursquare ID\nCLIENT_SECRET = 'TZWYKO4FGTK3ZQRJBI2FIP2R2UXUEFFU0KVQBPZLXCTK3QON' #Foursquare Secret\nVERSION = '20180605' # Foursquare API version\n\nprint('Your credentails:')\nprint('CLIENT_ID: ' + CLIENT_ID)\nprint('CLIENT_SECRET:' + CLIENT_SECRET)"
        }, 
        {
            "execution_count": 9, 
            "cell_type": "code", 
            "metadata": {}, 
            "outputs": [], 
            "source": "radius = 2000\nLIMIT = 100\n\nvenues = []\n\nfor lat, long, neighborhood in zip(Zip_Codes['latitude'], Zip_Codes['longitude'], Zip_Codes['postal_code']):\n    \n    # create the API request URL\n    url = \"https://api.foursquare.com/v2/venues/explore?client_id={}&client_secret={}&v={}&ll={},{}&radius={}&limit={}\".format(\n        CLIENT_ID,\n        CLIENT_SECRET,\n        VERSION,\n        lat,\n        long,\n        radius, \n        LIMIT)\n    \n    # make the GET request\n    results = requests.get(url).json()[\"response\"]['groups'][0]['items']\n    \n    # return only relevant information for each nearby venue\n    for venue in results:\n        venues.append((\n            neighborhood,\n            lat, \n            long, \n            venue['venue']['name'], \n            venue['venue']['location']['lat'], \n            venue['venue']['location']['lng'],  \n            venue['venue']['categories'][0]['name']))"
        }, 
        {
            "execution_count": 10, 
            "cell_type": "code", 
            "metadata": {}, 
            "outputs": [
                {
                    "output_type": "stream", 
                    "name": "stdout", 
                    "text": "(67, 7)\n"
                }, 
                {
                    "execution_count": 10, 
                    "metadata": {}, 
                    "data": {
                        "text/html": "<div>\n<style scoped>\n    .dataframe tbody tr th:only-of-type {\n        vertical-align: middle;\n    }\n\n    .dataframe tbody tr th {\n        vertical-align: top;\n    }\n\n    .dataframe thead th {\n        text-align: right;\n    }\n</style>\n<table border=\"1\" class=\"dataframe\">\n  <thead>\n    <tr style=\"text-align: right;\">\n      <th></th>\n      <th>Zip Code</th>\n      <th>Latitude</th>\n      <th>Longitude</th>\n      <th>VenueName</th>\n      <th>VenueLatitude</th>\n      <th>VenueLongitude</th>\n      <th>VenueCategory</th>\n    </tr>\n  </thead>\n  <tbody>\n    <tr>\n      <th>0</th>\n      <td>36079</td>\n      <td>31.7595</td>\n      <td>-86.0107</td>\n      <td>Pike Co Lake</td>\n      <td>31.752357</td>\n      <td>-85.995704</td>\n      <td>Lake</td>\n    </tr>\n    <tr>\n      <th>1</th>\n      <td>36079</td>\n      <td>31.7595</td>\n      <td>-86.0107</td>\n      <td>Wayne Farms - Hatchery</td>\n      <td>31.773894</td>\n      <td>-86.005917</td>\n      <td>Food</td>\n    </tr>\n    <tr>\n      <th>2</th>\n      <td>36081</td>\n      <td>31.7945</td>\n      <td>-85.9655</td>\n      <td>Firehouse Subs</td>\n      <td>31.784641</td>\n      <td>-85.962677</td>\n      <td>Sandwich Place</td>\n    </tr>\n    <tr>\n      <th>3</th>\n      <td>36081</td>\n      <td>31.7945</td>\n      <td>-85.9655</td>\n      <td>Barnes &amp; Noble</td>\n      <td>31.800762</td>\n      <td>-85.956268</td>\n      <td>Bookstore</td>\n    </tr>\n    <tr>\n      <th>4</th>\n      <td>36081</td>\n      <td>31.7945</td>\n      <td>-85.9655</td>\n      <td>Chick-fil-A</td>\n      <td>31.782618</td>\n      <td>-85.955896</td>\n      <td>Fast Food Restaurant</td>\n    </tr>\n  </tbody>\n</table>\n</div>", 
                        "text/plain": "  Zip Code  Latitude  Longitude               VenueName  VenueLatitude  \\\n0    36079   31.7595   -86.0107            Pike Co Lake      31.752357   \n1    36079   31.7595   -86.0107  Wayne Farms - Hatchery      31.773894   \n2    36081   31.7945   -85.9655          Firehouse Subs      31.784641   \n3    36081   31.7945   -85.9655          Barnes & Noble      31.800762   \n4    36081   31.7945   -85.9655             Chick-fil-A      31.782618   \n\n   VenueLongitude         VenueCategory  \n0      -85.995704                  Lake  \n1      -86.005917                  Food  \n2      -85.962677        Sandwich Place  \n3      -85.956268             Bookstore  \n4      -85.955896  Fast Food Restaurant  "
                    }, 
                    "output_type": "execute_result"
                }
            ], 
            "source": "# convert the venues list into a new DataFrame\nvenues_df = pd.DataFrame(venues)\n\n# define the column names\nvenues_df.columns = ['Zip Code', 'Latitude', 'Longitude', 'VenueName', 'VenueLatitude', 'VenueLongitude', 'VenueCategory']\n\nprint(venues_df.shape)\nvenues_df.head()"
        }, 
        {
            "execution_count": 11, 
            "cell_type": "code", 
            "metadata": {}, 
            "outputs": [
                {
                    "execution_count": 11, 
                    "metadata": {}, 
                    "data": {
                        "text/html": "<div>\n<style scoped>\n    .dataframe tbody tr th:only-of-type {\n        vertical-align: middle;\n    }\n\n    .dataframe tbody tr th {\n        vertical-align: top;\n    }\n\n    .dataframe thead th {\n        text-align: right;\n    }\n</style>\n<table border=\"1\" class=\"dataframe\">\n  <thead>\n    <tr style=\"text-align: right;\">\n      <th></th>\n      <th>Latitude</th>\n      <th>Longitude</th>\n      <th>VenueName</th>\n      <th>VenueLatitude</th>\n      <th>VenueLongitude</th>\n      <th>VenueCategory</th>\n    </tr>\n    <tr>\n      <th>Zip Code</th>\n      <th></th>\n      <th></th>\n      <th></th>\n      <th></th>\n      <th></th>\n      <th></th>\n    </tr>\n  </thead>\n  <tbody>\n    <tr>\n      <th>36079</th>\n      <td>2</td>\n      <td>2</td>\n      <td>2</td>\n      <td>2</td>\n      <td>2</td>\n      <td>2</td>\n    </tr>\n    <tr>\n      <th>36081</th>\n      <td>52</td>\n      <td>52</td>\n      <td>52</td>\n      <td>52</td>\n      <td>52</td>\n      <td>52</td>\n    </tr>\n    <tr>\n      <th>36082</th>\n      <td>13</td>\n      <td>13</td>\n      <td>13</td>\n      <td>13</td>\n      <td>13</td>\n      <td>13</td>\n    </tr>\n  </tbody>\n</table>\n</div>", 
                        "text/plain": "          Latitude  Longitude  VenueName  VenueLatitude  VenueLongitude  \\\nZip Code                                                                  \n36079            2          2          2              2               2   \n36081           52         52         52             52              52   \n36082           13         13         13             13              13   \n\n          VenueCategory  \nZip Code                 \n36079                 2  \n36081                52  \n36082                13  "
                    }, 
                    "output_type": "execute_result"
                }
            ], 
            "source": "venues_df.groupby([\"Zip Code\"]).count()"
        }, 
        {
            "execution_count": 12, 
            "cell_type": "code", 
            "metadata": {}, 
            "outputs": [
                {
                    "output_type": "stream", 
                    "name": "stdout", 
                    "text": "There are 27 uniques categories.\n"
                }
            ], 
            "source": "print('There are {} uniques categories.'.format(len(venues_df['VenueCategory'].unique())))"
        }, 
        {
            "execution_count": 13, 
            "cell_type": "code", 
            "metadata": {}, 
            "outputs": [
                {
                    "execution_count": 13, 
                    "metadata": {}, 
                    "data": {
                        "text/plain": "array(['Lake', 'Food', 'Sandwich Place', 'Bookstore',\n       'Fast Food Restaurant', 'Southern / Soul Food Restaurant',\n       'Wine Bar', 'Grocery Store', 'Mexican Restaurant', 'Restaurant',\n       'Japanese Restaurant', 'Coffee Shop', 'Pharmacy', 'Hotel',\n       'Discount Store', 'Bar', 'Gym / Fitness Center', 'Deli / Bodega',\n       'Pizza Place', 'Shipping Store', 'American Restaurant',\n       'Fried Chicken Joint', 'Seafood Restaurant', 'Breakfast Spot',\n       'Gas Station', 'Chinese Restaurant', 'Ice Cream Shop'],\n      dtype=object)"
                    }, 
                    "output_type": "execute_result"
                }
            ], 
            "source": "# print out the list of categories\nvenues_df['VenueCategory'].unique()[:50]"
        }, 
        {
            "execution_count": 14, 
            "cell_type": "code", 
            "metadata": {}, 
            "outputs": [
                {
                    "execution_count": 14, 
                    "metadata": {}, 
                    "data": {
                        "text/plain": "True"
                    }, 
                    "output_type": "execute_result"
                }
            ], 
            "source": "# check if the results contain \"Restaurant\"\n\"Restaurant\" in venues_df['VenueCategory'].unique()"
        }, 
        {
            "source": "# 5. Let's Examine the Venues in the Three Zones", 
            "cell_type": "markdown", 
            "metadata": {}
        }, 
        {
            "execution_count": 15, 
            "cell_type": "code", 
            "metadata": {}, 
            "outputs": [
                {
                    "output_type": "stream", 
                    "name": "stdout", 
                    "text": "(67, 28)\n"
                }, 
                {
                    "execution_count": 15, 
                    "metadata": {}, 
                    "data": {
                        "text/html": "<div>\n<style scoped>\n    .dataframe tbody tr th:only-of-type {\n        vertical-align: middle;\n    }\n\n    .dataframe tbody tr th {\n        vertical-align: top;\n    }\n\n    .dataframe thead th {\n        text-align: right;\n    }\n</style>\n<table border=\"1\" class=\"dataframe\">\n  <thead>\n    <tr style=\"text-align: right;\">\n      <th></th>\n      <th>Zip Code</th>\n      <th>American Restaurant</th>\n      <th>Bar</th>\n      <th>Bookstore</th>\n      <th>Breakfast Spot</th>\n      <th>Chinese Restaurant</th>\n      <th>Coffee Shop</th>\n      <th>Deli / Bodega</th>\n      <th>Discount Store</th>\n      <th>Fast Food Restaurant</th>\n      <th>Food</th>\n      <th>Fried Chicken Joint</th>\n      <th>Gas Station</th>\n      <th>Grocery Store</th>\n      <th>Gym / Fitness Center</th>\n      <th>Hotel</th>\n      <th>Ice Cream Shop</th>\n      <th>Japanese Restaurant</th>\n      <th>Lake</th>\n      <th>Mexican Restaurant</th>\n      <th>Pharmacy</th>\n      <th>Pizza Place</th>\n      <th>Restaurant</th>\n      <th>Sandwich Place</th>\n      <th>Seafood Restaurant</th>\n      <th>Shipping Store</th>\n      <th>Southern / Soul Food Restaurant</th>\n      <th>Wine Bar</th>\n    </tr>\n  </thead>\n  <tbody>\n    <tr>\n      <th>0</th>\n      <td>36079</td>\n      <td>0</td>\n      <td>0</td>\n      <td>0</td>\n      <td>0</td>\n      <td>0</td>\n      <td>0</td>\n      <td>0</td>\n      <td>0</td>\n      <td>0</td>\n      <td>0</td>\n      <td>0</td>\n      <td>0</td>\n      <td>0</td>\n      <td>0</td>\n      <td>0</td>\n      <td>0</td>\n      <td>0</td>\n      <td>1</td>\n      <td>0</td>\n      <td>0</td>\n      <td>0</td>\n      <td>0</td>\n      <td>0</td>\n      <td>0</td>\n      <td>0</td>\n      <td>0</td>\n      <td>0</td>\n    </tr>\n    <tr>\n      <th>1</th>\n      <td>36079</td>\n      <td>0</td>\n      <td>0</td>\n      <td>0</td>\n      <td>0</td>\n      <td>0</td>\n      <td>0</td>\n      <td>0</td>\n      <td>0</td>\n      <td>0</td>\n      <td>1</td>\n      <td>0</td>\n      <td>0</td>\n      <td>0</td>\n      <td>0</td>\n      <td>0</td>\n      <td>0</td>\n      <td>0</td>\n      <td>0</td>\n      <td>0</td>\n      <td>0</td>\n      <td>0</td>\n      <td>0</td>\n      <td>0</td>\n      <td>0</td>\n      <td>0</td>\n      <td>0</td>\n      <td>0</td>\n    </tr>\n    <tr>\n      <th>2</th>\n      <td>36081</td>\n      <td>0</td>\n      <td>0</td>\n      <td>0</td>\n      <td>0</td>\n      <td>0</td>\n      <td>0</td>\n      <td>0</td>\n      <td>0</td>\n      <td>0</td>\n      <td>0</td>\n      <td>0</td>\n      <td>0</td>\n      <td>0</td>\n      <td>0</td>\n      <td>0</td>\n      <td>0</td>\n      <td>0</td>\n      <td>0</td>\n      <td>0</td>\n      <td>0</td>\n      <td>0</td>\n      <td>0</td>\n      <td>1</td>\n      <td>0</td>\n      <td>0</td>\n      <td>0</td>\n      <td>0</td>\n    </tr>\n    <tr>\n      <th>3</th>\n      <td>36081</td>\n      <td>0</td>\n      <td>0</td>\n      <td>1</td>\n      <td>0</td>\n      <td>0</td>\n      <td>0</td>\n      <td>0</td>\n      <td>0</td>\n      <td>0</td>\n      <td>0</td>\n      <td>0</td>\n      <td>0</td>\n      <td>0</td>\n      <td>0</td>\n      <td>0</td>\n      <td>0</td>\n      <td>0</td>\n      <td>0</td>\n      <td>0</td>\n      <td>0</td>\n      <td>0</td>\n      <td>0</td>\n      <td>0</td>\n      <td>0</td>\n      <td>0</td>\n      <td>0</td>\n      <td>0</td>\n    </tr>\n    <tr>\n      <th>4</th>\n      <td>36081</td>\n      <td>0</td>\n      <td>0</td>\n      <td>0</td>\n      <td>0</td>\n      <td>0</td>\n      <td>0</td>\n      <td>0</td>\n      <td>0</td>\n      <td>1</td>\n      <td>0</td>\n      <td>0</td>\n      <td>0</td>\n      <td>0</td>\n      <td>0</td>\n      <td>0</td>\n      <td>0</td>\n      <td>0</td>\n      <td>0</td>\n      <td>0</td>\n      <td>0</td>\n      <td>0</td>\n      <td>0</td>\n      <td>0</td>\n      <td>0</td>\n      <td>0</td>\n      <td>0</td>\n      <td>0</td>\n    </tr>\n  </tbody>\n</table>\n</div>", 
                        "text/plain": "  Zip Code  American Restaurant  Bar  Bookstore  Breakfast Spot  \\\n0    36079                    0    0          0               0   \n1    36079                    0    0          0               0   \n2    36081                    0    0          0               0   \n3    36081                    0    0          1               0   \n4    36081                    0    0          0               0   \n\n   Chinese Restaurant  Coffee Shop  Deli / Bodega  Discount Store  \\\n0                   0            0              0               0   \n1                   0            0              0               0   \n2                   0            0              0               0   \n3                   0            0              0               0   \n4                   0            0              0               0   \n\n   Fast Food Restaurant  Food  Fried Chicken Joint  Gas Station  \\\n0                     0     0                    0            0   \n1                     0     1                    0            0   \n2                     0     0                    0            0   \n3                     0     0                    0            0   \n4                     1     0                    0            0   \n\n   Grocery Store  Gym / Fitness Center  Hotel  Ice Cream Shop  \\\n0              0                     0      0               0   \n1              0                     0      0               0   \n2              0                     0      0               0   \n3              0                     0      0               0   \n4              0                     0      0               0   \n\n   Japanese Restaurant  Lake  Mexican Restaurant  Pharmacy  Pizza Place  \\\n0                    0     1                   0         0            0   \n1                    0     0                   0         0            0   \n2                    0     0                   0         0            0   \n3                    0     0                   0         0            0   \n4                    0     0                   0         0            0   \n\n   Restaurant  Sandwich Place  Seafood Restaurant  Shipping Store  \\\n0           0               0                   0               0   \n1           0               0                   0               0   \n2           0               1                   0               0   \n3           0               0                   0               0   \n4           0               0                   0               0   \n\n   Southern / Soul Food Restaurant  Wine Bar  \n0                                0         0  \n1                                0         0  \n2                                0         0  \n3                                0         0  \n4                                0         0  "
                    }, 
                    "output_type": "execute_result"
                }
            ], 
            "source": "# one hot encoding\nkl_onehot = pd.get_dummies(venues_df[['VenueCategory']], prefix=\"\", prefix_sep=\"\")\n\n# add neighborhood column back to dataframe\nkl_onehot['Zip Code'] = venues_df['Zip Code'] \n\n# move neighborhood column to the first column\nfixed_columns = [kl_onehot.columns[-1]] + list(kl_onehot.columns[:-1])\nkl_onehot = kl_onehot[fixed_columns]\n\nprint(kl_onehot.shape)\nkl_onehot.head()"
        }, 
        {
            "source": "# Group by Zip Code", 
            "cell_type": "markdown", 
            "metadata": {}
        }, 
        {
            "execution_count": 16, 
            "cell_type": "code", 
            "metadata": {}, 
            "outputs": [
                {
                    "output_type": "stream", 
                    "name": "stdout", 
                    "text": "(3, 28)\n"
                }, 
                {
                    "execution_count": 16, 
                    "metadata": {}, 
                    "data": {
                        "text/html": "<div>\n<style scoped>\n    .dataframe tbody tr th:only-of-type {\n        vertical-align: middle;\n    }\n\n    .dataframe tbody tr th {\n        vertical-align: top;\n    }\n\n    .dataframe thead th {\n        text-align: right;\n    }\n</style>\n<table border=\"1\" class=\"dataframe\">\n  <thead>\n    <tr style=\"text-align: right;\">\n      <th></th>\n      <th>Zip Code</th>\n      <th>American Restaurant</th>\n      <th>Bar</th>\n      <th>Bookstore</th>\n      <th>Breakfast Spot</th>\n      <th>Chinese Restaurant</th>\n      <th>Coffee Shop</th>\n      <th>Deli / Bodega</th>\n      <th>Discount Store</th>\n      <th>Fast Food Restaurant</th>\n      <th>Food</th>\n      <th>Fried Chicken Joint</th>\n      <th>Gas Station</th>\n      <th>Grocery Store</th>\n      <th>Gym / Fitness Center</th>\n      <th>Hotel</th>\n      <th>Ice Cream Shop</th>\n      <th>Japanese Restaurant</th>\n      <th>Lake</th>\n      <th>Mexican Restaurant</th>\n      <th>Pharmacy</th>\n      <th>Pizza Place</th>\n      <th>Restaurant</th>\n      <th>Sandwich Place</th>\n      <th>Seafood Restaurant</th>\n      <th>Shipping Store</th>\n      <th>Southern / Soul Food Restaurant</th>\n      <th>Wine Bar</th>\n    </tr>\n  </thead>\n  <tbody>\n    <tr>\n      <th>0</th>\n      <td>36079</td>\n      <td>0.000000</td>\n      <td>0.000000</td>\n      <td>0.000000</td>\n      <td>0.000000</td>\n      <td>0.000000</td>\n      <td>0.000000</td>\n      <td>0.000000</td>\n      <td>0.000000</td>\n      <td>0.000000</td>\n      <td>0.5</td>\n      <td>0.000000</td>\n      <td>0.000000</td>\n      <td>0.000000</td>\n      <td>0.000000</td>\n      <td>0.000000</td>\n      <td>0.000000</td>\n      <td>0.000000</td>\n      <td>0.5</td>\n      <td>0.000000</td>\n      <td>0.000000</td>\n      <td>0.000000</td>\n      <td>0.000000</td>\n      <td>0.000000</td>\n      <td>0.000000</td>\n      <td>0.000000</td>\n      <td>0.000000</td>\n      <td>0.000000</td>\n    </tr>\n    <tr>\n      <th>1</th>\n      <td>36081</td>\n      <td>0.057692</td>\n      <td>0.019231</td>\n      <td>0.019231</td>\n      <td>0.019231</td>\n      <td>0.019231</td>\n      <td>0.019231</td>\n      <td>0.019231</td>\n      <td>0.038462</td>\n      <td>0.173077</td>\n      <td>0.0</td>\n      <td>0.057692</td>\n      <td>0.019231</td>\n      <td>0.038462</td>\n      <td>0.019231</td>\n      <td>0.076923</td>\n      <td>0.019231</td>\n      <td>0.019231</td>\n      <td>0.0</td>\n      <td>0.057692</td>\n      <td>0.076923</td>\n      <td>0.057692</td>\n      <td>0.019231</td>\n      <td>0.057692</td>\n      <td>0.038462</td>\n      <td>0.019231</td>\n      <td>0.019231</td>\n      <td>0.019231</td>\n    </tr>\n    <tr>\n      <th>2</th>\n      <td>36082</td>\n      <td>0.000000</td>\n      <td>0.076923</td>\n      <td>0.076923</td>\n      <td>0.000000</td>\n      <td>0.000000</td>\n      <td>0.000000</td>\n      <td>0.076923</td>\n      <td>0.153846</td>\n      <td>0.000000</td>\n      <td>0.0</td>\n      <td>0.000000</td>\n      <td>0.000000</td>\n      <td>0.076923</td>\n      <td>0.000000</td>\n      <td>0.000000</td>\n      <td>0.076923</td>\n      <td>0.000000</td>\n      <td>0.0</td>\n      <td>0.076923</td>\n      <td>0.076923</td>\n      <td>0.076923</td>\n      <td>0.076923</td>\n      <td>0.000000</td>\n      <td>0.000000</td>\n      <td>0.076923</td>\n      <td>0.000000</td>\n      <td>0.076923</td>\n    </tr>\n  </tbody>\n</table>\n</div>", 
                        "text/plain": "  Zip Code  American Restaurant       Bar  Bookstore  Breakfast Spot  \\\n0    36079             0.000000  0.000000   0.000000        0.000000   \n1    36081             0.057692  0.019231   0.019231        0.019231   \n2    36082             0.000000  0.076923   0.076923        0.000000   \n\n   Chinese Restaurant  Coffee Shop  Deli / Bodega  Discount Store  \\\n0            0.000000     0.000000       0.000000        0.000000   \n1            0.019231     0.019231       0.019231        0.038462   \n2            0.000000     0.000000       0.076923        0.153846   \n\n   Fast Food Restaurant  Food  Fried Chicken Joint  Gas Station  \\\n0              0.000000   0.5             0.000000     0.000000   \n1              0.173077   0.0             0.057692     0.019231   \n2              0.000000   0.0             0.000000     0.000000   \n\n   Grocery Store  Gym / Fitness Center     Hotel  Ice Cream Shop  \\\n0       0.000000              0.000000  0.000000        0.000000   \n1       0.038462              0.019231  0.076923        0.019231   \n2       0.076923              0.000000  0.000000        0.076923   \n\n   Japanese Restaurant  Lake  Mexican Restaurant  Pharmacy  Pizza Place  \\\n0             0.000000   0.5            0.000000  0.000000     0.000000   \n1             0.019231   0.0            0.057692  0.076923     0.057692   \n2             0.000000   0.0            0.076923  0.076923     0.076923   \n\n   Restaurant  Sandwich Place  Seafood Restaurant  Shipping Store  \\\n0    0.000000        0.000000            0.000000        0.000000   \n1    0.019231        0.057692            0.038462        0.019231   \n2    0.076923        0.000000            0.000000        0.076923   \n\n   Southern / Soul Food Restaurant  Wine Bar  \n0                         0.000000  0.000000  \n1                         0.019231  0.019231  \n2                         0.000000  0.076923  "
                    }, 
                    "output_type": "execute_result"
                }
            ], 
            "source": "kl_grouped = kl_onehot.groupby([\"Zip Code\"]).mean().reset_index()\n\nprint(kl_grouped.shape)\nkl_grouped"
        }, 
        {
            "execution_count": 17, 
            "cell_type": "code", 
            "metadata": {}, 
            "outputs": [
                {
                    "execution_count": 17, 
                    "metadata": {}, 
                    "data": {
                        "text/plain": "2"
                    }, 
                    "output_type": "execute_result"
                }
            ], 
            "source": "len(kl_grouped[kl_grouped[\"Restaurant\"] > 0])"
        }, 
        {
            "source": "# 6. Create a New Dataframe with only the Relevant Information (Food Venues)", 
            "cell_type": "markdown", 
            "metadata": {}
        }, 
        {
            "execution_count": 23, 
            "cell_type": "code", 
            "metadata": {}, 
            "outputs": [], 
            "source": "k1_food = kl_grouped[[\"Zip Code\",\"Restaurant\",\"American Restaurant\",\"Breakfast Spot\", \"Chinese Restaurant\", \"Deli / Bodega\", \"Fast Food Restaurant\", \"Food\", \"Fried Chicken Joint\", \"Japanese Restaurant\", \"Mexican Restaurant\", \"Pizza Place\", \"Sandwich Place\", \"Seafood Restaurant\", \"Southern / Soul Food Restaurant\"]]"
        }, 
        {
            "execution_count": 28, 
            "cell_type": "code", 
            "metadata": {}, 
            "outputs": [
                {
                    "execution_count": 28, 
                    "metadata": {}, 
                    "data": {
                        "text/html": "<div>\n<style scoped>\n    .dataframe tbody tr th:only-of-type {\n        vertical-align: middle;\n    }\n\n    .dataframe tbody tr th {\n        vertical-align: top;\n    }\n\n    .dataframe thead th {\n        text-align: right;\n    }\n</style>\n<table border=\"1\" class=\"dataframe\">\n  <thead>\n    <tr style=\"text-align: right;\">\n      <th></th>\n      <th>Zip Code</th>\n      <th>Restaurant</th>\n      <th>American Restaurant</th>\n      <th>Breakfast Spot</th>\n      <th>Chinese Restaurant</th>\n      <th>Deli / Bodega</th>\n      <th>Fast Food Restaurant</th>\n      <th>Food</th>\n      <th>Fried Chicken Joint</th>\n      <th>Japanese Restaurant</th>\n      <th>Mexican Restaurant</th>\n      <th>Pizza Place</th>\n      <th>Sandwich Place</th>\n      <th>Seafood Restaurant</th>\n      <th>Southern / Soul Food Restaurant</th>\n    </tr>\n  </thead>\n  <tbody>\n    <tr>\n      <th>0</th>\n      <td>36079</td>\n      <td>0.000000</td>\n      <td>0.000000</td>\n      <td>0.000000</td>\n      <td>0.000000</td>\n      <td>0.000000</td>\n      <td>0.000000</td>\n      <td>0.5</td>\n      <td>0.000000</td>\n      <td>0.000000</td>\n      <td>0.000000</td>\n      <td>0.000000</td>\n      <td>0.000000</td>\n      <td>0.000000</td>\n      <td>0.000000</td>\n    </tr>\n    <tr>\n      <th>1</th>\n      <td>36081</td>\n      <td>0.019231</td>\n      <td>0.057692</td>\n      <td>0.019231</td>\n      <td>0.019231</td>\n      <td>0.019231</td>\n      <td>0.173077</td>\n      <td>0.0</td>\n      <td>0.057692</td>\n      <td>0.019231</td>\n      <td>0.057692</td>\n      <td>0.057692</td>\n      <td>0.057692</td>\n      <td>0.038462</td>\n      <td>0.019231</td>\n    </tr>\n    <tr>\n      <th>2</th>\n      <td>36082</td>\n      <td>0.076923</td>\n      <td>0.000000</td>\n      <td>0.000000</td>\n      <td>0.000000</td>\n      <td>0.076923</td>\n      <td>0.000000</td>\n      <td>0.0</td>\n      <td>0.000000</td>\n      <td>0.000000</td>\n      <td>0.076923</td>\n      <td>0.076923</td>\n      <td>0.000000</td>\n      <td>0.000000</td>\n      <td>0.000000</td>\n    </tr>\n  </tbody>\n</table>\n</div>", 
                        "text/plain": "  Zip Code  Restaurant  American Restaurant  Breakfast Spot  \\\n0    36079    0.000000             0.000000        0.000000   \n1    36081    0.019231             0.057692        0.019231   \n2    36082    0.076923             0.000000        0.000000   \n\n   Chinese Restaurant  Deli / Bodega  Fast Food Restaurant  Food  \\\n0            0.000000       0.000000              0.000000   0.5   \n1            0.019231       0.019231              0.173077   0.0   \n2            0.000000       0.076923              0.000000   0.0   \n\n   Fried Chicken Joint  Japanese Restaurant  Mexican Restaurant  Pizza Place  \\\n0             0.000000             0.000000            0.000000     0.000000   \n1             0.057692             0.019231            0.057692     0.057692   \n2             0.000000             0.000000            0.076923     0.076923   \n\n   Sandwich Place  Seafood Restaurant  Southern / Soul Food Restaurant  \n0        0.000000            0.000000                         0.000000  \n1        0.057692            0.038462                         0.019231  \n2        0.000000            0.000000                         0.000000  "
                    }, 
                    "output_type": "execute_result"
                }
            ], 
            "source": "k1_food.head()"
        }, 
        {
            "source": "# 7. Use K-Means Clustering to cluster the restaurants into the three zones.", 
            "cell_type": "markdown", 
            "metadata": {}
        }, 
        {
            "execution_count": 29, 
            "cell_type": "code", 
            "metadata": {}, 
            "outputs": [
                {
                    "execution_count": 29, 
                    "metadata": {}, 
                    "data": {
                        "text/plain": "array([0, 2, 1], dtype=int32)"
                    }, 
                    "output_type": "execute_result"
                }
            ], 
            "source": "# set number of clusters\nkclusters = 3\n\nkl_clustering = k1_food.drop([\"Zip Code\"], 1)\n\n# run k-means clustering\nkmeans = KMeans(n_clusters=kclusters, random_state=0).fit(kl_clustering)\n\n# check cluster labels generated for each row in the dataframe\nkmeans.labels_[0:10]"
        }, 
        {
            "execution_count": 30, 
            "cell_type": "code", 
            "metadata": {}, 
            "outputs": [], 
            "source": "\n# create a new dataframe that includes the cluster as well as the top 10 venues for each neighborhood.\nkl_merged = k1_food.copy()\n\n# add clustering labels\nkl_merged[\"Cluster Labels\"] = kmeans.labels_"
        }, 
        {
            "execution_count": 35, 
            "cell_type": "code", 
            "metadata": {}, 
            "outputs": [
                {
                    "execution_count": 35, 
                    "metadata": {}, 
                    "data": {
                        "text/html": "<div>\n<style scoped>\n    .dataframe tbody tr th:only-of-type {\n        vertical-align: middle;\n    }\n\n    .dataframe tbody tr th {\n        vertical-align: top;\n    }\n\n    .dataframe thead th {\n        text-align: right;\n    }\n</style>\n<table border=\"1\" class=\"dataframe\">\n  <thead>\n    <tr style=\"text-align: right;\">\n      <th></th>\n      <th>Zip Code</th>\n      <th>Restaurant</th>\n      <th>American Restaurant</th>\n      <th>Breakfast Spot</th>\n      <th>Chinese Restaurant</th>\n      <th>Deli / Bodega</th>\n      <th>Fast Food Restaurant</th>\n      <th>Food</th>\n      <th>Fried Chicken Joint</th>\n      <th>Japanese Restaurant</th>\n      <th>Mexican Restaurant</th>\n      <th>Pizza Place</th>\n      <th>Sandwich Place</th>\n      <th>Seafood Restaurant</th>\n      <th>Southern / Soul Food Restaurant</th>\n      <th>Cluster Labels</th>\n    </tr>\n  </thead>\n  <tbody>\n    <tr>\n      <th>0</th>\n      <td>36079</td>\n      <td>0.000000</td>\n      <td>0.000000</td>\n      <td>0.000000</td>\n      <td>0.000000</td>\n      <td>0.000000</td>\n      <td>0.000000</td>\n      <td>0.5</td>\n      <td>0.000000</td>\n      <td>0.000000</td>\n      <td>0.000000</td>\n      <td>0.000000</td>\n      <td>0.000000</td>\n      <td>0.000000</td>\n      <td>0.000000</td>\n      <td>0</td>\n    </tr>\n    <tr>\n      <th>1</th>\n      <td>36081</td>\n      <td>0.019231</td>\n      <td>0.057692</td>\n      <td>0.019231</td>\n      <td>0.019231</td>\n      <td>0.019231</td>\n      <td>0.173077</td>\n      <td>0.0</td>\n      <td>0.057692</td>\n      <td>0.019231</td>\n      <td>0.057692</td>\n      <td>0.057692</td>\n      <td>0.057692</td>\n      <td>0.038462</td>\n      <td>0.019231</td>\n      <td>2</td>\n    </tr>\n    <tr>\n      <th>2</th>\n      <td>36082</td>\n      <td>0.076923</td>\n      <td>0.000000</td>\n      <td>0.000000</td>\n      <td>0.000000</td>\n      <td>0.076923</td>\n      <td>0.000000</td>\n      <td>0.0</td>\n      <td>0.000000</td>\n      <td>0.000000</td>\n      <td>0.076923</td>\n      <td>0.076923</td>\n      <td>0.000000</td>\n      <td>0.000000</td>\n      <td>0.000000</td>\n      <td>1</td>\n    </tr>\n  </tbody>\n</table>\n</div>", 
                        "text/plain": "  Zip Code  Restaurant  American Restaurant  Breakfast Spot  \\\n0    36079    0.000000             0.000000        0.000000   \n1    36081    0.019231             0.057692        0.019231   \n2    36082    0.076923             0.000000        0.000000   \n\n   Chinese Restaurant  Deli / Bodega  Fast Food Restaurant  Food  \\\n0            0.000000       0.000000              0.000000   0.5   \n1            0.019231       0.019231              0.173077   0.0   \n2            0.000000       0.076923              0.000000   0.0   \n\n   Fried Chicken Joint  Japanese Restaurant  Mexican Restaurant  Pizza Place  \\\n0             0.000000             0.000000            0.000000     0.000000   \n1             0.057692             0.019231            0.057692     0.057692   \n2             0.000000             0.000000            0.076923     0.076923   \n\n   Sandwich Place  Seafood Restaurant  Southern / Soul Food Restaurant  \\\n0        0.000000            0.000000                         0.000000   \n1        0.057692            0.038462                         0.019231   \n2        0.000000            0.000000                         0.000000   \n\n   Cluster Labels  \n0               0  \n1               2  \n2               1  "
                    }, 
                    "output_type": "execute_result"
                }
            ], 
            "source": "kl_merged.rename(columns={\"Zip Code\": \"Zip Code\"}, inplace=True)\nkl_merged.head()"
        }, 
        {
            "execution_count": 36, 
            "cell_type": "code", 
            "metadata": {}, 
            "outputs": [
                {
                    "output_type": "stream", 
                    "name": "stdout", 
                    "text": "(3, 27)\n"
                }, 
                {
                    "execution_count": 36, 
                    "metadata": {}, 
                    "data": {
                        "text/html": "<div>\n<style scoped>\n    .dataframe tbody tr th:only-of-type {\n        vertical-align: middle;\n    }\n\n    .dataframe tbody tr th {\n        vertical-align: top;\n    }\n\n    .dataframe thead th {\n        text-align: right;\n    }\n</style>\n<table border=\"1\" class=\"dataframe\">\n  <thead>\n    <tr style=\"text-align: right;\">\n      <th></th>\n      <th>Zip Code</th>\n      <th>Restaurant</th>\n      <th>American Restaurant</th>\n      <th>Breakfast Spot</th>\n      <th>Chinese Restaurant</th>\n      <th>Deli / Bodega</th>\n      <th>Fast Food Restaurant</th>\n      <th>Food</th>\n      <th>Fried Chicken Joint</th>\n      <th>Japanese Restaurant</th>\n      <th>Mexican Restaurant</th>\n      <th>Pizza Place</th>\n      <th>Sandwich Place</th>\n      <th>Seafood Restaurant</th>\n      <th>Southern / Soul Food Restaurant</th>\n      <th>Cluster Labels</th>\n      <th>country code</th>\n      <th>place_name</th>\n      <th>state_name</th>\n      <th>state_code</th>\n      <th>county_name</th>\n      <th>county_code</th>\n      <th>community_name</th>\n      <th>community_code</th>\n      <th>latitude</th>\n      <th>longitude</th>\n      <th>accuracy</th>\n    </tr>\n  </thead>\n  <tbody>\n    <tr>\n      <th>0</th>\n      <td>36079</td>\n      <td>0.000000</td>\n      <td>0.000000</td>\n      <td>0.000000</td>\n      <td>0.000000</td>\n      <td>0.000000</td>\n      <td>0.000000</td>\n      <td>0.5</td>\n      <td>0.000000</td>\n      <td>0.000000</td>\n      <td>0.000000</td>\n      <td>0.000000</td>\n      <td>0.000000</td>\n      <td>0.000000</td>\n      <td>0.000000</td>\n      <td>0</td>\n      <td>US</td>\n      <td>Troy</td>\n      <td>Alabama</td>\n      <td>AL</td>\n      <td>Pike</td>\n      <td>109.0</td>\n      <td>NaN</td>\n      <td>NaN</td>\n      <td>31.7595</td>\n      <td>-86.0107</td>\n      <td>4.0</td>\n    </tr>\n    <tr>\n      <th>1</th>\n      <td>36081</td>\n      <td>0.019231</td>\n      <td>0.057692</td>\n      <td>0.019231</td>\n      <td>0.019231</td>\n      <td>0.019231</td>\n      <td>0.173077</td>\n      <td>0.0</td>\n      <td>0.057692</td>\n      <td>0.019231</td>\n      <td>0.057692</td>\n      <td>0.057692</td>\n      <td>0.057692</td>\n      <td>0.038462</td>\n      <td>0.019231</td>\n      <td>2</td>\n      <td>US</td>\n      <td>Troy</td>\n      <td>Alabama</td>\n      <td>AL</td>\n      <td>Pike</td>\n      <td>109.0</td>\n      <td>NaN</td>\n      <td>NaN</td>\n      <td>31.7945</td>\n      <td>-85.9655</td>\n      <td>4.0</td>\n    </tr>\n    <tr>\n      <th>2</th>\n      <td>36082</td>\n      <td>0.076923</td>\n      <td>0.000000</td>\n      <td>0.000000</td>\n      <td>0.000000</td>\n      <td>0.076923</td>\n      <td>0.000000</td>\n      <td>0.0</td>\n      <td>0.000000</td>\n      <td>0.000000</td>\n      <td>0.076923</td>\n      <td>0.076923</td>\n      <td>0.000000</td>\n      <td>0.000000</td>\n      <td>0.000000</td>\n      <td>1</td>\n      <td>US</td>\n      <td>Troy</td>\n      <td>Alabama</td>\n      <td>AL</td>\n      <td>Pike</td>\n      <td>109.0</td>\n      <td>NaN</td>\n      <td>NaN</td>\n      <td>31.8028</td>\n      <td>-85.9546</td>\n      <td>4.0</td>\n    </tr>\n  </tbody>\n</table>\n</div>", 
                        "text/plain": "  Zip Code  Restaurant  American Restaurant  Breakfast Spot  \\\n0    36079    0.000000             0.000000        0.000000   \n1    36081    0.019231             0.057692        0.019231   \n2    36082    0.076923             0.000000        0.000000   \n\n   Chinese Restaurant  Deli / Bodega  Fast Food Restaurant  Food  \\\n0            0.000000       0.000000              0.000000   0.5   \n1            0.019231       0.019231              0.173077   0.0   \n2            0.000000       0.076923              0.000000   0.0   \n\n   Fried Chicken Joint  Japanese Restaurant  Mexican Restaurant  Pizza Place  \\\n0             0.000000             0.000000            0.000000     0.000000   \n1             0.057692             0.019231            0.057692     0.057692   \n2             0.000000             0.000000            0.076923     0.076923   \n\n   Sandwich Place  Seafood Restaurant  Southern / Soul Food Restaurant  \\\n0        0.000000            0.000000                         0.000000   \n1        0.057692            0.038462                         0.019231   \n2        0.000000            0.000000                         0.000000   \n\n   Cluster Labels country code place_name state_name state_code county_name  \\\n0               0           US       Troy    Alabama         AL        Pike   \n1               2           US       Troy    Alabama         AL        Pike   \n2               1           US       Troy    Alabama         AL        Pike   \n\n   county_code community_name  community_code  latitude  longitude  accuracy  \n0        109.0            NaN             NaN   31.7595   -86.0107       4.0  \n1        109.0            NaN             NaN   31.7945   -85.9655       4.0  \n2        109.0            NaN             NaN   31.8028   -85.9546       4.0  "
                    }, 
                    "output_type": "execute_result"
                }
            ], 
            "source": "# merge to add latitude/longitude for each neighborhood\nkl_merged = kl_merged.join(Zip_Codes.set_index(\"postal_code\"), on=\"Zip Code\")\n\nprint(kl_merged.shape)\nkl_merged.head() # check the last columns!"
        }, 
        {
            "execution_count": 45, 
            "cell_type": "code", 
            "metadata": {}, 
            "outputs": [
                {
                    "output_type": "stream", 
                    "name": "stdout", 
                    "text": "(3, 27)\n"
                }, 
                {
                    "execution_count": 45, 
                    "metadata": {}, 
                    "data": {
                        "text/html": "<div>\n<style scoped>\n    .dataframe tbody tr th:only-of-type {\n        vertical-align: middle;\n    }\n\n    .dataframe tbody tr th {\n        vertical-align: top;\n    }\n\n    .dataframe thead th {\n        text-align: right;\n    }\n</style>\n<table border=\"1\" class=\"dataframe\">\n  <thead>\n    <tr style=\"text-align: right;\">\n      <th></th>\n      <th>Zip Code</th>\n      <th>Restaurant</th>\n      <th>American Restaurant</th>\n      <th>Breakfast Spot</th>\n      <th>Chinese Restaurant</th>\n      <th>Deli / Bodega</th>\n      <th>Fast Food Restaurant</th>\n      <th>Food</th>\n      <th>Fried Chicken Joint</th>\n      <th>Japanese Restaurant</th>\n      <th>Mexican Restaurant</th>\n      <th>Pizza Place</th>\n      <th>Sandwich Place</th>\n      <th>Seafood Restaurant</th>\n      <th>Southern / Soul Food Restaurant</th>\n      <th>Cluster Labels</th>\n      <th>country code</th>\n      <th>place_name</th>\n      <th>state_name</th>\n      <th>state_code</th>\n      <th>county_name</th>\n      <th>county_code</th>\n      <th>community_name</th>\n      <th>community_code</th>\n      <th>latitude</th>\n      <th>longitude</th>\n      <th>accuracy</th>\n    </tr>\n  </thead>\n  <tbody>\n    <tr>\n      <th>0</th>\n      <td>36079</td>\n      <td>0.000000</td>\n      <td>0.000000</td>\n      <td>0.000000</td>\n      <td>0.000000</td>\n      <td>0.000000</td>\n      <td>0.000000</td>\n      <td>0.5</td>\n      <td>0.000000</td>\n      <td>0.000000</td>\n      <td>0.000000</td>\n      <td>0.000000</td>\n      <td>0.000000</td>\n      <td>0.000000</td>\n      <td>0.000000</td>\n      <td>0</td>\n      <td>US</td>\n      <td>Troy</td>\n      <td>Alabama</td>\n      <td>AL</td>\n      <td>Pike</td>\n      <td>109.0</td>\n      <td>NaN</td>\n      <td>NaN</td>\n      <td>31.7595</td>\n      <td>-86.0107</td>\n      <td>4.0</td>\n    </tr>\n    <tr>\n      <th>2</th>\n      <td>36082</td>\n      <td>0.076923</td>\n      <td>0.000000</td>\n      <td>0.000000</td>\n      <td>0.000000</td>\n      <td>0.076923</td>\n      <td>0.000000</td>\n      <td>0.0</td>\n      <td>0.000000</td>\n      <td>0.000000</td>\n      <td>0.076923</td>\n      <td>0.076923</td>\n      <td>0.000000</td>\n      <td>0.000000</td>\n      <td>0.000000</td>\n      <td>1</td>\n      <td>US</td>\n      <td>Troy</td>\n      <td>Alabama</td>\n      <td>AL</td>\n      <td>Pike</td>\n      <td>109.0</td>\n      <td>NaN</td>\n      <td>NaN</td>\n      <td>31.8028</td>\n      <td>-85.9546</td>\n      <td>4.0</td>\n    </tr>\n    <tr>\n      <th>1</th>\n      <td>36081</td>\n      <td>0.019231</td>\n      <td>0.057692</td>\n      <td>0.019231</td>\n      <td>0.019231</td>\n      <td>0.019231</td>\n      <td>0.173077</td>\n      <td>0.0</td>\n      <td>0.057692</td>\n      <td>0.019231</td>\n      <td>0.057692</td>\n      <td>0.057692</td>\n      <td>0.057692</td>\n      <td>0.038462</td>\n      <td>0.019231</td>\n      <td>2</td>\n      <td>US</td>\n      <td>Troy</td>\n      <td>Alabama</td>\n      <td>AL</td>\n      <td>Pike</td>\n      <td>109.0</td>\n      <td>NaN</td>\n      <td>NaN</td>\n      <td>31.7945</td>\n      <td>-85.9655</td>\n      <td>4.0</td>\n    </tr>\n  </tbody>\n</table>\n</div>", 
                        "text/plain": "  Zip Code  Restaurant  American Restaurant  Breakfast Spot  \\\n0    36079    0.000000             0.000000        0.000000   \n2    36082    0.076923             0.000000        0.000000   \n1    36081    0.019231             0.057692        0.019231   \n\n   Chinese Restaurant  Deli / Bodega  Fast Food Restaurant  Food  \\\n0            0.000000       0.000000              0.000000   0.5   \n2            0.000000       0.076923              0.000000   0.0   \n1            0.019231       0.019231              0.173077   0.0   \n\n   Fried Chicken Joint  Japanese Restaurant  Mexican Restaurant  Pizza Place  \\\n0             0.000000             0.000000            0.000000     0.000000   \n2             0.000000             0.000000            0.076923     0.076923   \n1             0.057692             0.019231            0.057692     0.057692   \n\n   Sandwich Place  Seafood Restaurant  Southern / Soul Food Restaurant  \\\n0        0.000000            0.000000                         0.000000   \n2        0.000000            0.000000                         0.000000   \n1        0.057692            0.038462                         0.019231   \n\n   Cluster Labels country code place_name state_name state_code county_name  \\\n0               0           US       Troy    Alabama         AL        Pike   \n2               1           US       Troy    Alabama         AL        Pike   \n1               2           US       Troy    Alabama         AL        Pike   \n\n   county_code community_name  community_code  latitude  longitude  accuracy  \n0        109.0            NaN             NaN   31.7595   -86.0107       4.0  \n2        109.0            NaN             NaN   31.8028   -85.9546       4.0  \n1        109.0            NaN             NaN   31.7945   -85.9655       4.0  "
                    }, 
                    "output_type": "execute_result"
                }
            ], 
            "source": "# sort the results by Cluster Labels\nprint(kl_merged.shape)\nkl_merged.sort_values([\"Cluster Labels\"], inplace=True)\nkl_merged"
        }, 
        {
            "execution_count": 47, 
            "cell_type": "code", 
            "metadata": {}, 
            "outputs": [
                {
                    "execution_count": 47, 
                    "metadata": {}, 
                    "data": {
                        "text/html": "<div style=\"width:100%;\"><div style=\"position:relative;width:100%;height:0;padding-bottom:60%;\"><iframe src=\"data:text/html;charset=utf-8;base64,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\" style=\"position:absolute;width:100%;height:100%;left:0;top:0;border:none !important;\" allowfullscreen webkitallowfullscreen mozallowfullscreen></iframe></div></div>", 
                        "text/plain": "<folium.folium.Map at 0x7f4097bff470>"
                    }, 
                    "output_type": "execute_result"
                }
            ], 
            "source": "# create map\nmap_clusters = folium.Map(location=[latitude, longitude], zoom_start=11)\n\n# set color scheme for the clusters\nx = np.arange(kclusters)\nys = [i+x+(i*x)**2 for i in range(kclusters)]\ncolors_array = cm.rainbow(np.linspace(0, 1, len(ys)))\nrainbow = [colors.rgb2hex(i) for i in colors_array]\n\n# add markers to the map\nmarkers_colors = []\nfor lat, lon, poi, cluster in zip(kl_merged['latitude'], kl_merged['longitude'], kl_merged['Zip Code'], kl_merged['Cluster Labels']):\n    label = folium.Popup(str(poi) + ' - Cluster ' + str(cluster), parse_html=True)\n    folium.CircleMarker(\n        [lat, lon],\n        radius=5,\n        popup=label,\n        color=rainbow[cluster-1],\n        fill=True,\n        fill_color=rainbow[cluster-1],\n        fill_opacity=0.7).add_to(map_clusters)\n       \nmap_clusters\nfor lat, lon, poi, cluster in zip(kl_merged['latitude'], kl_merged['longitude'], kl_merged['Zip Code'], kl_merged['Cluster Labels']):\n    label = folium.Popup(str(poi) + ' - Cluster ' + str(cluster), parse_html=True)\n    folium.CircleMarker(\n        [lat, lon],\n        radius=5,\n        popup=label,\n        color=rainbow[cluster-1],\n        fill=True,\n        fill_color=rainbow[cluster-1],\n        fill_opacity=0.7).add_to(map_clusters)"
        }, 
        {
            "execution_count": 40, 
            "cell_type": "code", 
            "metadata": {}, 
            "outputs": [], 
            "source": "# save the map as HTML file\nmap_clusters.save('map_clusters.html')"
        }, 
        {
            "execution_count": 41, 
            "cell_type": "code", 
            "metadata": {}, 
            "outputs": [
                {
                    "execution_count": 41, 
                    "metadata": {}, 
                    "data": {
                        "text/html": "<div>\n<style scoped>\n    .dataframe tbody tr th:only-of-type {\n        vertical-align: middle;\n    }\n\n    .dataframe tbody tr th {\n        vertical-align: top;\n    }\n\n    .dataframe thead th {\n        text-align: right;\n    }\n</style>\n<table border=\"1\" class=\"dataframe\">\n  <thead>\n    <tr style=\"text-align: right;\">\n      <th></th>\n      <th>Zip Code</th>\n      <th>Restaurant</th>\n      <th>American Restaurant</th>\n      <th>Breakfast Spot</th>\n      <th>Chinese Restaurant</th>\n      <th>Deli / Bodega</th>\n      <th>Fast Food Restaurant</th>\n      <th>Food</th>\n      <th>Fried Chicken Joint</th>\n      <th>Japanese Restaurant</th>\n      <th>Mexican Restaurant</th>\n      <th>Pizza Place</th>\n      <th>Sandwich Place</th>\n      <th>Seafood Restaurant</th>\n      <th>Southern / Soul Food Restaurant</th>\n      <th>Cluster Labels</th>\n      <th>country code</th>\n      <th>place_name</th>\n      <th>state_name</th>\n      <th>state_code</th>\n      <th>county_name</th>\n      <th>county_code</th>\n      <th>community_name</th>\n      <th>community_code</th>\n      <th>latitude</th>\n      <th>longitude</th>\n      <th>accuracy</th>\n    </tr>\n  </thead>\n  <tbody>\n    <tr>\n      <th>0</th>\n      <td>36079</td>\n      <td>0.0</td>\n      <td>0.0</td>\n      <td>0.0</td>\n      <td>0.0</td>\n      <td>0.0</td>\n      <td>0.0</td>\n      <td>0.5</td>\n      <td>0.0</td>\n      <td>0.0</td>\n      <td>0.0</td>\n      <td>0.0</td>\n      <td>0.0</td>\n      <td>0.0</td>\n      <td>0.0</td>\n      <td>0</td>\n      <td>US</td>\n      <td>Troy</td>\n      <td>Alabama</td>\n      <td>AL</td>\n      <td>Pike</td>\n      <td>109.0</td>\n      <td>NaN</td>\n      <td>NaN</td>\n      <td>31.7595</td>\n      <td>-86.0107</td>\n      <td>4.0</td>\n    </tr>\n  </tbody>\n</table>\n</div>", 
                        "text/plain": "  Zip Code  Restaurant  American Restaurant  Breakfast Spot  \\\n0    36079         0.0                  0.0             0.0   \n\n   Chinese Restaurant  Deli / Bodega  Fast Food Restaurant  Food  \\\n0                 0.0            0.0                   0.0   0.5   \n\n   Fried Chicken Joint  Japanese Restaurant  Mexican Restaurant  Pizza Place  \\\n0                  0.0                  0.0                 0.0          0.0   \n\n   Sandwich Place  Seafood Restaurant  Southern / Soul Food Restaurant  \\\n0             0.0                 0.0                              0.0   \n\n   Cluster Labels country code place_name state_name state_code county_name  \\\n0               0           US       Troy    Alabama         AL        Pike   \n\n   county_code community_name  community_code  latitude  longitude  accuracy  \n0        109.0            NaN             NaN   31.7595   -86.0107       4.0  "
                    }, 
                    "output_type": "execute_result"
                }
            ], 
            "source": "kl_merged.loc[kl_merged['Cluster Labels'] == 0]"
        }, 
        {
            "execution_count": 42, 
            "cell_type": "code", 
            "metadata": {}, 
            "outputs": [
                {
                    "execution_count": 42, 
                    "metadata": {}, 
                    "data": {
                        "text/html": "<div>\n<style scoped>\n    .dataframe tbody tr th:only-of-type {\n        vertical-align: middle;\n    }\n\n    .dataframe tbody tr th {\n        vertical-align: top;\n    }\n\n    .dataframe thead th {\n        text-align: right;\n    }\n</style>\n<table border=\"1\" class=\"dataframe\">\n  <thead>\n    <tr style=\"text-align: right;\">\n      <th></th>\n      <th>Zip Code</th>\n      <th>Restaurant</th>\n      <th>American Restaurant</th>\n      <th>Breakfast Spot</th>\n      <th>Chinese Restaurant</th>\n      <th>Deli / Bodega</th>\n      <th>Fast Food Restaurant</th>\n      <th>Food</th>\n      <th>Fried Chicken Joint</th>\n      <th>Japanese Restaurant</th>\n      <th>Mexican Restaurant</th>\n      <th>Pizza Place</th>\n      <th>Sandwich Place</th>\n      <th>Seafood Restaurant</th>\n      <th>Southern / Soul Food Restaurant</th>\n      <th>Cluster Labels</th>\n      <th>country code</th>\n      <th>place_name</th>\n      <th>state_name</th>\n      <th>state_code</th>\n      <th>county_name</th>\n      <th>county_code</th>\n      <th>community_name</th>\n      <th>community_code</th>\n      <th>latitude</th>\n      <th>longitude</th>\n      <th>accuracy</th>\n    </tr>\n  </thead>\n  <tbody>\n    <tr>\n      <th>2</th>\n      <td>36082</td>\n      <td>0.076923</td>\n      <td>0.0</td>\n      <td>0.0</td>\n      <td>0.0</td>\n      <td>0.076923</td>\n      <td>0.0</td>\n      <td>0.0</td>\n      <td>0.0</td>\n      <td>0.0</td>\n      <td>0.076923</td>\n      <td>0.076923</td>\n      <td>0.0</td>\n      <td>0.0</td>\n      <td>0.0</td>\n      <td>1</td>\n      <td>US</td>\n      <td>Troy</td>\n      <td>Alabama</td>\n      <td>AL</td>\n      <td>Pike</td>\n      <td>109.0</td>\n      <td>NaN</td>\n      <td>NaN</td>\n      <td>31.8028</td>\n      <td>-85.9546</td>\n      <td>4.0</td>\n    </tr>\n  </tbody>\n</table>\n</div>", 
                        "text/plain": "  Zip Code  Restaurant  American Restaurant  Breakfast Spot  \\\n2    36082    0.076923                  0.0             0.0   \n\n   Chinese Restaurant  Deli / Bodega  Fast Food Restaurant  Food  \\\n2                 0.0       0.076923                   0.0   0.0   \n\n   Fried Chicken Joint  Japanese Restaurant  Mexican Restaurant  Pizza Place  \\\n2                  0.0                  0.0            0.076923     0.076923   \n\n   Sandwich Place  Seafood Restaurant  Southern / Soul Food Restaurant  \\\n2             0.0                 0.0                              0.0   \n\n   Cluster Labels country code place_name state_name state_code county_name  \\\n2               1           US       Troy    Alabama         AL        Pike   \n\n   county_code community_name  community_code  latitude  longitude  accuracy  \n2        109.0            NaN             NaN   31.8028   -85.9546       4.0  "
                    }, 
                    "output_type": "execute_result"
                }
            ], 
            "source": "kl_merged.loc[kl_merged['Cluster Labels'] == 1]"
        }, 
        {
            "execution_count": 43, 
            "cell_type": "code", 
            "metadata": {}, 
            "outputs": [
                {
                    "execution_count": 43, 
                    "metadata": {}, 
                    "data": {
                        "text/html": "<div>\n<style scoped>\n    .dataframe tbody tr th:only-of-type {\n        vertical-align: middle;\n    }\n\n    .dataframe tbody tr th {\n        vertical-align: top;\n    }\n\n    .dataframe thead th {\n        text-align: right;\n    }\n</style>\n<table border=\"1\" class=\"dataframe\">\n  <thead>\n    <tr style=\"text-align: right;\">\n      <th></th>\n      <th>Zip Code</th>\n      <th>Restaurant</th>\n      <th>American Restaurant</th>\n      <th>Breakfast Spot</th>\n      <th>Chinese Restaurant</th>\n      <th>Deli / Bodega</th>\n      <th>Fast Food Restaurant</th>\n      <th>Food</th>\n      <th>Fried Chicken Joint</th>\n      <th>Japanese Restaurant</th>\n      <th>Mexican Restaurant</th>\n      <th>Pizza Place</th>\n      <th>Sandwich Place</th>\n      <th>Seafood Restaurant</th>\n      <th>Southern / Soul Food Restaurant</th>\n      <th>Cluster Labels</th>\n      <th>country code</th>\n      <th>place_name</th>\n      <th>state_name</th>\n      <th>state_code</th>\n      <th>county_name</th>\n      <th>county_code</th>\n      <th>community_name</th>\n      <th>community_code</th>\n      <th>latitude</th>\n      <th>longitude</th>\n      <th>accuracy</th>\n    </tr>\n  </thead>\n  <tbody>\n    <tr>\n      <th>1</th>\n      <td>36081</td>\n      <td>0.019231</td>\n      <td>0.057692</td>\n      <td>0.019231</td>\n      <td>0.019231</td>\n      <td>0.019231</td>\n      <td>0.173077</td>\n      <td>0.0</td>\n      <td>0.057692</td>\n      <td>0.019231</td>\n      <td>0.057692</td>\n      <td>0.057692</td>\n      <td>0.057692</td>\n      <td>0.038462</td>\n      <td>0.019231</td>\n      <td>2</td>\n      <td>US</td>\n      <td>Troy</td>\n      <td>Alabama</td>\n      <td>AL</td>\n      <td>Pike</td>\n      <td>109.0</td>\n      <td>NaN</td>\n      <td>NaN</td>\n      <td>31.7945</td>\n      <td>-85.9655</td>\n      <td>4.0</td>\n    </tr>\n  </tbody>\n</table>\n</div>", 
                        "text/plain": "  Zip Code  Restaurant  American Restaurant  Breakfast Spot  \\\n1    36081    0.019231             0.057692        0.019231   \n\n   Chinese Restaurant  Deli / Bodega  Fast Food Restaurant  Food  \\\n1            0.019231       0.019231              0.173077   0.0   \n\n   Fried Chicken Joint  Japanese Restaurant  Mexican Restaurant  Pizza Place  \\\n1             0.057692             0.019231            0.057692     0.057692   \n\n   Sandwich Place  Seafood Restaurant  Southern / Soul Food Restaurant  \\\n1        0.057692            0.038462                         0.019231   \n\n   Cluster Labels country code place_name state_name state_code county_name  \\\n1               2           US       Troy    Alabama         AL        Pike   \n\n   county_code community_name  community_code  latitude  longitude  accuracy  \n1        109.0            NaN             NaN   31.7945   -85.9655       4.0  "
                    }, 
                    "output_type": "execute_result"
                }
            ], 
            "source": "kl_merged.loc[kl_merged['Cluster Labels'] == 2]"
        }, 
        {
            "source": "## 8. Final Observations\n", 
            "cell_type": "markdown", 
            "metadata": {}
        }, 
        {
            "source": "By merging these restuarnts into the Zip Code clusters, I am able to see the locations that are populated by most of the city's restaurants. The most restaurants are located in the cluster for the Zip Code 36081. The second greatest amount of restaurants are located in the Zip Code cluster of 36082. The zip code with the least amount of restaurants is 36079. With this knowledge, the new restaurant owner will be better equipped to make a dicision on where his new restaurant might thrive best.", 
            "cell_type": "markdown", 
            "metadata": {}
        }, 
        {
            "execution_count": null, 
            "cell_type": "code", 
            "metadata": {}, 
            "outputs": [], 
            "source": ""
        }
    ], 
    "metadata": {
        "kernelspec": {
            "display_name": "Python 3.6", 
            "name": "python3", 
            "language": "python"
        }, 
        "language_info": {
            "mimetype": "text/x-python", 
            "nbconvert_exporter": "python", 
            "version": "3.6.8", 
            "name": "python", 
            "file_extension": ".py", 
            "pygments_lexer": "ipython3", 
            "codemirror_mode": {
                "version": 3, 
                "name": "ipython"
            }
        }
    }, 
    "nbformat": 4
}